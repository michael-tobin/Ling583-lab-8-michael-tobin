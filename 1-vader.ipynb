{
 "cells": [
  {
   "cell_type": "markdown",
   "id": "theoretical-fairy",
   "metadata": {},
   "source": [
    "# Sentiment analysis"
   ]
  },
  {
   "cell_type": "code",
   "execution_count": null,
   "id": "spectacular-stopping",
   "metadata": {},
   "outputs": [],
   "source": [
    "import numpy as np\n",
    "import pandas as pd\n",
    "from cytoolz import *\n",
    "from tqdm.auto import tqdm\n",
    "\n",
    "tqdm.pandas()"
   ]
  },
  {
   "cell_type": "code",
   "execution_count": null,
   "id": "million-ability",
   "metadata": {},
   "outputs": [],
   "source": [
    "df = pd.read_parquet('s3://ling583/sentiment.parquet', storage_options={'anon': True})"
   ]
  },
  {
   "cell_type": "markdown",
   "id": "elect-turkey",
   "metadata": {},
   "source": [
    "-----"
   ]
  },
  {
   "cell_type": "code",
   "execution_count": null,
   "id": "complimentary-profile",
   "metadata": {},
   "outputs": [],
   "source": [
    "from sklearn.model_selection import train_test_split\n",
    "from sklearn.metrics import classification_report, accuracy_score\n",
    "from sklearn.dummy import DummyClassifier"
   ]
  },
  {
   "cell_type": "code",
   "execution_count": null,
   "id": "loving-trace",
   "metadata": {},
   "outputs": [],
   "source": [
    "train, test = train_test_split(\n",
    "    df, test_size=0.2, stratify=df[\"sentiment\"], random_state=619\n",
    ")"
   ]
  },
  {
   "cell_type": "code",
   "execution_count": null,
   "id": "crude-worse",
   "metadata": {},
   "outputs": [],
   "source": [
    "baseline = DummyClassifier()\n",
    "baseline.fit(train['text'], train['sentiment'])\n",
    "print(accuracy_score(test['sentiment'], baseline.predict(test['text'])))"
   ]
  },
  {
   "cell_type": "markdown",
   "id": "swedish-campus",
   "metadata": {},
   "source": [
    "-----"
   ]
  },
  {
   "cell_type": "code",
   "execution_count": null,
   "id": "improving-necklace",
   "metadata": {},
   "outputs": [],
   "source": [
    "import nltk\n",
    "from nltk.sentiment.vader import SentimentIntensityAnalyzer"
   ]
  },
  {
   "cell_type": "code",
   "execution_count": null,
   "id": "tender-archive",
   "metadata": {},
   "outputs": [],
   "source": [
    "analyzer = SentimentIntensityAnalyzer()"
   ]
  },
  {
   "cell_type": "code",
   "execution_count": null,
   "id": "stuffed-warrior",
   "metadata": {},
   "outputs": [],
   "source": [
    "import multiprocessing as mp"
   ]
  },
  {
   "cell_type": "code",
   "execution_count": null,
   "id": "portuguese-recognition",
   "metadata": {},
   "outputs": [],
   "source": [
    "def get_compound(text):\n",
    "    return analyzer.polarity_scores(text)['compound']\n",
    "\n",
    "with mp.Pool() as p:\n",
    "    train['vader'] = list(p.imap(get_compound, tqdm(train['text']), chunksize=500))\n",
    "    test['vader'] = list(p.imap(get_compound, tqdm(test['text']), chunksize=500))"
   ]
  },
  {
   "cell_type": "markdown",
   "id": "composite-raising",
   "metadata": {},
   "source": [
    "---"
   ]
  },
  {
   "cell_type": "code",
   "execution_count": null,
   "id": "occupational-hormone",
   "metadata": {},
   "outputs": [],
   "source": [
    "import matplotlib.pyplot as plt"
   ]
  },
  {
   "cell_type": "code",
   "execution_count": null,
   "id": "abroad-trinidad",
   "metadata": {},
   "outputs": [],
   "source": [
    "train.boxplot('vader', by='overall', grid=False, showfliers=False)\n",
    "plt.ylabel('VADER composite')"
   ]
  },
  {
   "cell_type": "code",
   "execution_count": null,
   "id": "architectural-ground",
   "metadata": {},
   "outputs": [],
   "source": [
    "accuracy_score((train['vader']>0.75),(train['sentiment']=='good'))"
   ]
  },
  {
   "cell_type": "code",
   "execution_count": null,
   "id": "weekly-variable",
   "metadata": {},
   "outputs": [],
   "source": [
    "xs = np.linspace(-1.0, 1.0, 50)\n",
    "ys =[accuracy_score((train['vader']>x),(train['sentiment']=='good')) for x in xs]"
   ]
  },
  {
   "cell_type": "code",
   "execution_count": null,
   "id": "mathematical-intersection",
   "metadata": {},
   "outputs": [],
   "source": [
    "plt.plot(xs, ys)\n",
    "plt.xlabel('VADER cutoff')\n",
    "plt.ylabel('Train acc.')"
   ]
  },
  {
   "cell_type": "code",
   "execution_count": null,
   "id": "elementary-ukraine",
   "metadata": {},
   "outputs": [],
   "source": [
    "xs[np.argmax(ys)]"
   ]
  },
  {
   "cell_type": "code",
   "execution_count": null,
   "id": "living-spencer",
   "metadata": {},
   "outputs": [],
   "source": [
    "thresh = _\n",
    "accuracy_score((train['vader']>thresh),(train['sentiment']=='good'))"
   ]
  },
  {
   "cell_type": "code",
   "execution_count": null,
   "id": "environmental-argentina",
   "metadata": {},
   "outputs": [],
   "source": [
    "accuracy_score((test['vader']>thresh),(test['sentiment']=='good'))"
   ]
  },
  {
   "cell_type": "markdown",
   "id": "continued-manner",
   "metadata": {},
   "source": [
    "---"
   ]
  },
  {
   "cell_type": "code",
   "execution_count": null,
   "id": "loaded-radical",
   "metadata": {},
   "outputs": [],
   "source": [
    "train[(train['vader']>.9)&(train['sentiment']=='bad')]['text'].iloc[0]"
   ]
  },
  {
   "cell_type": "code",
   "execution_count": null,
   "id": "operating-reservoir",
   "metadata": {},
   "outputs": [],
   "source": [
    "analyzer.polarity_scores(_)"
   ]
  },
  {
   "cell_type": "code",
   "execution_count": null,
   "id": "wooden-reminder",
   "metadata": {},
   "outputs": [],
   "source": [
    "train[(train['vader']>.9)&(train['sentiment']=='bad')]['text'].iloc[1]"
   ]
  },
  {
   "cell_type": "code",
   "execution_count": null,
   "id": "precious-venice",
   "metadata": {},
   "outputs": [],
   "source": [
    "analyzer.polarity_scores(_)"
   ]
  },
  {
   "cell_type": "code",
   "execution_count": null,
   "id": "filled-affiliation",
   "metadata": {},
   "outputs": [],
   "source": [
    "train[(train['vader']>.9)&(train['sentiment']=='bad')]['text'].iloc[2]"
   ]
  },
  {
   "cell_type": "code",
   "execution_count": null,
   "id": "graduate-ivory",
   "metadata": {},
   "outputs": [],
   "source": [
    "analyzer.polarity_scores(_)"
   ]
  },
  {
   "cell_type": "code",
   "execution_count": null,
   "id": "introductory-marine",
   "metadata": {},
   "outputs": [],
   "source": [
    "def get_diff(text):\n",
    "    scores = analyzer.polarity_scores(text)\n",
    "    return scores['pos'] - scores['neg']\n",
    "\n",
    "with mp.Pool() as p:\n",
    "    train['vader_diff'] = list(p.imap(get_diff, tqdm(train['text']), chunksize=500))\n",
    "    test['vader_diff'] = list(p.imap(get_diff, tqdm(test['text']), chunksize=500))"
   ]
  },
  {
   "cell_type": "code",
   "execution_count": null,
   "id": "sonic-subject",
   "metadata": {},
   "outputs": [],
   "source": [
    "train.boxplot('vader_diff', by='overall', grid=False, showfliers=False)\n",
    "plt.ylabel('VADER pos - VADER neg')"
   ]
  },
  {
   "cell_type": "code",
   "execution_count": null,
   "id": "intelligent-glance",
   "metadata": {},
   "outputs": [],
   "source": [
    "xs = np.linspace(-1.0, 1.0, 100)\n",
    "ys =[accuracy_score((train['vader_diff']>x),(train['sentiment']=='good')) for x in xs]\n",
    "\n",
    "plt.plot(xs, ys)\n",
    "plt.xlabel('VADER cutoff')\n",
    "plt.ylabel('Train acc.')"
   ]
  },
  {
   "cell_type": "code",
   "execution_count": null,
   "id": "stainless-bearing",
   "metadata": {},
   "outputs": [],
   "source": [
    "thresh = xs[np.argmax(ys)]\n",
    "thresh"
   ]
  },
  {
   "cell_type": "code",
   "execution_count": null,
   "id": "pretty-playback",
   "metadata": {},
   "outputs": [],
   "source": [
    "accuracy_score((test['vader_diff']>thresh),(test['sentiment']=='good'))"
   ]
  },
  {
   "cell_type": "code",
   "execution_count": null,
   "id": "political-stranger",
   "metadata": {},
   "outputs": [],
   "source": []
  }
 ],
 "metadata": {
  "kernelspec": {
   "display_name": "Python 3",
   "language": "python",
   "name": "python3"
  },
  "language_info": {
   "codemirror_mode": {
    "name": "ipython",
    "version": 3
   },
   "file_extension": ".py",
   "mimetype": "text/x-python",
   "name": "python",
   "nbconvert_exporter": "python",
   "pygments_lexer": "ipython3",
   "version": "3.8.6"
  }
 },
 "nbformat": 4,
 "nbformat_minor": 5
}
