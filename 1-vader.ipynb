{
 "cells": [
  {
   "cell_type": "markdown",
   "id": "western-suite",
   "metadata": {},
   "source": [
    "# Sentiment analysis"
   ]
  },
  {
   "cell_type": "code",
   "execution_count": 1,
   "id": "confirmed-cornwall",
   "metadata": {},
   "outputs": [],
   "source": [
    "import numpy as np\n",
    "import pandas as pd\n",
    "from cytoolz import *\n",
    "from tqdm.auto import tqdm\n",
    "\n",
    "tqdm.pandas()"
   ]
  },
  {
   "cell_type": "code",
   "execution_count": 2,
   "id": "square-workstation",
   "metadata": {},
   "outputs": [],
   "source": [
    "df = pd.read_parquet('s3://ling583/sentiment.parquet', storage_options={'anon': True})"
   ]
  },
  {
   "cell_type": "markdown",
   "id": "cloudy-coral",
   "metadata": {},
   "source": [
    "-----"
   ]
  },
  {
   "cell_type": "code",
   "execution_count": 3,
   "id": "therapeutic-nicaragua",
   "metadata": {},
   "outputs": [],
   "source": [
    "from sklearn.model_selection import train_test_split\n",
    "from sklearn.metrics import classification_report, accuracy_score\n",
    "from sklearn.dummy import DummyClassifier"
   ]
  },
  {
   "cell_type": "code",
   "execution_count": 32,
   "id": "vocational-enemy",
   "metadata": {},
   "outputs": [],
   "source": [
    "train1, test1 = train_test_split(\n",
    "    df, test_size=0.2, stratify=df[\"sentiment\"], random_state=619\n",
    ")"
   ]
  },
  {
   "cell_type": "code",
   "execution_count": 33,
   "id": "powerful-episode",
   "metadata": {},
   "outputs": [],
   "source": [
    "test = test1.copy().reset_index(drop=True)\n",
    "train = train1.copy().reset_index(drop=True)"
   ]
  },
  {
   "cell_type": "code",
   "execution_count": 34,
   "id": "designing-mountain",
   "metadata": {},
   "outputs": [
    {
     "name": "stdout",
     "output_type": "stream",
     "text": [
      "0.7322\n"
     ]
    }
   ],
   "source": [
    "# will assign the most common category to all examples\n",
    "# that is, if we predict that every review is positive, we would be right ~73% of the time.\n",
    "baseline = DummyClassifier() \n",
    "baseline.fit(train['text'], train['sentiment'])\n",
    "print(accuracy_score(test['sentiment'], baseline.predict(test['text'])))"
   ]
  },
  {
   "cell_type": "markdown",
   "id": "controlled-proof",
   "metadata": {},
   "source": [
    "-----"
   ]
  },
  {
   "cell_type": "code",
   "execution_count": 35,
   "id": "expressed-flashing",
   "metadata": {},
   "outputs": [
    {
     "name": "stderr",
     "output_type": "stream",
     "text": [
      "[nltk_data] Downloading package vader_lexicon to\n",
      "[nltk_data]     /home/jovyan/nltk_data...\n",
      "[nltk_data]   Package vader_lexicon is already up-to-date!\n"
     ]
    }
   ],
   "source": [
    "import nltk\n",
    "nltk.download('vader_lexicon') # list of positive and negative words\n",
    "from nltk.sentiment.vader import SentimentIntensityAnalyzer"
   ]
  },
  {
   "cell_type": "code",
   "execution_count": 36,
   "id": "activated-season",
   "metadata": {},
   "outputs": [],
   "source": [
    "analyzer = SentimentIntensityAnalyzer()"
   ]
  },
  {
   "cell_type": "code",
   "execution_count": 37,
   "id": "enabling-compatibility",
   "metadata": {},
   "outputs": [
    {
     "data": {
      "text/plain": [
       "\"I have been to New york before and stayed in the usual small rooms that Manhattan is abound with. Wingate in Midtown Manhattan though is in a league of its own! Location is excellent, Right behind Macy's. So if you wanna shop you are staying at the right place. TImes square is about a 15 mins walk. There are a few good eateries nearby, I would highly recommend the great bread factory which is just a 2 min walk. The rooms are large, the bathrooms are really well equipped, the staff very nice and friendly! Its just one fantastic Place! We are vegetarian and the breakfast held good options for us. A great way to start your day. if u are in Newyork look no further! Wingate is your best option (unles ofcourse you can afford the Waldorf astoria). The hotel room rates are simply fabulous! We were 5 of us and booked two double queen for two nights. (Traveling with parents). Seriously Stay Here!!\""
      ]
     },
     "execution_count": 37,
     "metadata": {},
     "output_type": "execute_result"
    }
   ],
   "source": [
    "train['text'].iloc[0]"
   ]
  },
  {
   "cell_type": "code",
   "execution_count": 38,
   "id": "joined-tennis",
   "metadata": {},
   "outputs": [
    {
     "data": {
      "text/plain": [
       "{'neg': 0.021, 'neu': 0.753, 'pos': 0.226, 'compound': 0.9909}"
      ]
     },
     "execution_count": 38,
     "metadata": {},
     "output_type": "execute_result"
    }
   ],
   "source": [
    "analyzer.polarity_scores(_) # the _ in jupyter notebooks is a keyword for whatever the result was in the previous cell\n",
    "# compound ranges from -1 to 1 \n"
   ]
  },
  {
   "cell_type": "code",
   "execution_count": 39,
   "id": "serious-think",
   "metadata": {},
   "outputs": [],
   "source": [
    "import multiprocessing as mp"
   ]
  },
  {
   "cell_type": "code",
   "execution_count": 40,
   "id": "involved-democrat",
   "metadata": {},
   "outputs": [
    {
     "data": {
      "application/vnd.jupyter.widget-view+json": {
       "model_id": "5282f89810784b1c8118ad777583966f",
       "version_major": 2,
       "version_minor": 0
      },
      "text/plain": [
       "  0%|          | 0/40000 [00:00<?, ?it/s]"
      ]
     },
     "metadata": {},
     "output_type": "display_data"
    },
    {
     "data": {
      "application/vnd.jupyter.widget-view+json": {
       "model_id": "a45cb936ccba4e9fbbfcefc9f11aeb7d",
       "version_major": 2,
       "version_minor": 0
      },
      "text/plain": [
       "  0%|          | 0/10000 [00:00<?, ?it/s]"
      ]
     },
     "metadata": {},
     "output_type": "display_data"
    }
   ],
   "source": [
    "def get_compound(text):\n",
    "    return analyzer.polarity_scores(text)['compound']\n",
    "\n",
    "with mp.Pool() as p:\n",
    "    train['vader'] = list(p.imap(get_compound, tqdm(train['text']), chunksize=500))\n",
    "    test['vader'] = list(p.imap(get_compound, tqdm(test['text']), chunksize=500))"
   ]
  },
  {
   "cell_type": "code",
   "execution_count": 41,
   "id": "liquid-store",
   "metadata": {},
   "outputs": [
    {
     "data": {
      "text/html": [
       "<div>\n",
       "<style scoped>\n",
       "    .dataframe tbody tr th:only-of-type {\n",
       "        vertical-align: middle;\n",
       "    }\n",
       "\n",
       "    .dataframe tbody tr th {\n",
       "        vertical-align: top;\n",
       "    }\n",
       "\n",
       "    .dataframe thead th {\n",
       "        text-align: right;\n",
       "    }\n",
       "</style>\n",
       "<table border=\"1\" class=\"dataframe\">\n",
       "  <thead>\n",
       "    <tr style=\"text-align: right;\">\n",
       "      <th></th>\n",
       "      <th>title</th>\n",
       "      <th>text</th>\n",
       "      <th>date_stayed</th>\n",
       "      <th>date</th>\n",
       "      <th>service</th>\n",
       "      <th>cleanliness</th>\n",
       "      <th>overall</th>\n",
       "      <th>value</th>\n",
       "      <th>location</th>\n",
       "      <th>sleep_quality</th>\n",
       "      <th>rooms</th>\n",
       "      <th>locality</th>\n",
       "      <th>name</th>\n",
       "      <th>sentiment</th>\n",
       "      <th>vader</th>\n",
       "    </tr>\n",
       "  </thead>\n",
       "  <tbody>\n",
       "    <tr>\n",
       "      <th>0</th>\n",
       "      <td>“The Place to Stay in Manhattan! Simply Superb!”</td>\n",
       "      <td>I have been to New york before and stayed in t...</td>\n",
       "      <td>December 2008</td>\n",
       "      <td>2009-06-18</td>\n",
       "      <td>4.0</td>\n",
       "      <td>5.0</td>\n",
       "      <td>5.0</td>\n",
       "      <td>5.0</td>\n",
       "      <td>5.0</td>\n",
       "      <td>NaN</td>\n",
       "      <td>5.0</td>\n",
       "      <td>New York City</td>\n",
       "      <td>Wingate by Wyndham Manhattan Midtown</td>\n",
       "      <td>good</td>\n",
       "      <td>0.9909</td>\n",
       "    </tr>\n",
       "    <tr>\n",
       "      <th>1</th>\n",
       "      <td>“Howard Johnson, Phoenix”</td>\n",
       "      <td>The hotel is located one mile from Sky Harbor ...</td>\n",
       "      <td>January 2012</td>\n",
       "      <td>2012-01-17</td>\n",
       "      <td>4.0</td>\n",
       "      <td>3.0</td>\n",
       "      <td>3.0</td>\n",
       "      <td>3.0</td>\n",
       "      <td>5.0</td>\n",
       "      <td>2.0</td>\n",
       "      <td>3.0</td>\n",
       "      <td>Phoenix</td>\n",
       "      <td>Howard Johnson Phoenix Airport/Downtown Area</td>\n",
       "      <td>bad</td>\n",
       "      <td>0.8656</td>\n",
       "    </tr>\n",
       "    <tr>\n",
       "      <th>2</th>\n",
       "      <td>“Pier 5 hotel was unlike any other hotel we ha...</td>\n",
       "      <td>Most hotels and hotel rooms look the same but ...</td>\n",
       "      <td>September 2009</td>\n",
       "      <td>2009-10-09</td>\n",
       "      <td>4.0</td>\n",
       "      <td>5.0</td>\n",
       "      <td>4.0</td>\n",
       "      <td>4.0</td>\n",
       "      <td>5.0</td>\n",
       "      <td>NaN</td>\n",
       "      <td>5.0</td>\n",
       "      <td>Baltimore</td>\n",
       "      <td>Pier 5 Hotel</td>\n",
       "      <td>good</td>\n",
       "      <td>0.9513</td>\n",
       "    </tr>\n",
       "    <tr>\n",
       "      <th>3</th>\n",
       "      <td>“New York's best kept secret...well, not so se...</td>\n",
       "      <td>Excellent rooms, wonderful service......value ...</td>\n",
       "      <td>July 2011</td>\n",
       "      <td>2011-09-04</td>\n",
       "      <td>5.0</td>\n",
       "      <td>5.0</td>\n",
       "      <td>5.0</td>\n",
       "      <td>5.0</td>\n",
       "      <td>NaN</td>\n",
       "      <td>5.0</td>\n",
       "      <td>NaN</td>\n",
       "      <td>New York City</td>\n",
       "      <td>On The Ave Hotel</td>\n",
       "      <td>good</td>\n",
       "      <td>0.8126</td>\n",
       "    </tr>\n",
       "    <tr>\n",
       "      <th>4</th>\n",
       "      <td>“Cheerful Location-Best Value.”</td>\n",
       "      <td>We recently stayed for 5 nights in Hotel 140. ...</td>\n",
       "      <td>March 2012</td>\n",
       "      <td>2012-03-23</td>\n",
       "      <td>4.0</td>\n",
       "      <td>4.0</td>\n",
       "      <td>4.0</td>\n",
       "      <td>5.0</td>\n",
       "      <td>5.0</td>\n",
       "      <td>4.0</td>\n",
       "      <td>4.0</td>\n",
       "      <td>Boston</td>\n",
       "      <td>Hotel 140</td>\n",
       "      <td>good</td>\n",
       "      <td>0.9339</td>\n",
       "    </tr>\n",
       "  </tbody>\n",
       "</table>\n",
       "</div>"
      ],
      "text/plain": [
       "                                               title  \\\n",
       "0   “The Place to Stay in Manhattan! Simply Superb!”   \n",
       "1                          “Howard Johnson, Phoenix”   \n",
       "2  “Pier 5 hotel was unlike any other hotel we ha...   \n",
       "3  “New York's best kept secret...well, not so se...   \n",
       "4                    “Cheerful Location-Best Value.”   \n",
       "\n",
       "                                                text     date_stayed  \\\n",
       "0  I have been to New york before and stayed in t...   December 2008   \n",
       "1  The hotel is located one mile from Sky Harbor ...    January 2012   \n",
       "2  Most hotels and hotel rooms look the same but ...  September 2009   \n",
       "3  Excellent rooms, wonderful service......value ...       July 2011   \n",
       "4  We recently stayed for 5 nights in Hotel 140. ...      March 2012   \n",
       "\n",
       "        date  service  cleanliness  overall  value  location  sleep_quality  \\\n",
       "0 2009-06-18      4.0          5.0      5.0    5.0       5.0            NaN   \n",
       "1 2012-01-17      4.0          3.0      3.0    3.0       5.0            2.0   \n",
       "2 2009-10-09      4.0          5.0      4.0    4.0       5.0            NaN   \n",
       "3 2011-09-04      5.0          5.0      5.0    5.0       NaN            5.0   \n",
       "4 2012-03-23      4.0          4.0      4.0    5.0       5.0            4.0   \n",
       "\n",
       "   rooms       locality                                          name  \\\n",
       "0    5.0  New York City          Wingate by Wyndham Manhattan Midtown   \n",
       "1    3.0        Phoenix  Howard Johnson Phoenix Airport/Downtown Area   \n",
       "2    5.0      Baltimore                                  Pier 5 Hotel   \n",
       "3    NaN  New York City                              On The Ave Hotel   \n",
       "4    4.0         Boston                                     Hotel 140   \n",
       "\n",
       "  sentiment   vader  \n",
       "0      good  0.9909  \n",
       "1       bad  0.8656  \n",
       "2      good  0.9513  \n",
       "3      good  0.8126  \n",
       "4      good  0.9339  "
      ]
     },
     "execution_count": 41,
     "metadata": {},
     "output_type": "execute_result"
    }
   ],
   "source": [
    "train.head()\n",
    "# in the sentiment column, 'bad' just means it has an overall score of less than 4 stars"
   ]
  },
  {
   "cell_type": "markdown",
   "id": "mineral-brooklyn",
   "metadata": {},
   "source": [
    "---"
   ]
  },
  {
   "cell_type": "code",
   "execution_count": 42,
   "id": "closed-checkout",
   "metadata": {},
   "outputs": [],
   "source": [
    "import matplotlib.pyplot as plt"
   ]
  },
  {
   "cell_type": "code",
   "execution_count": 43,
   "id": "signal-schema",
   "metadata": {},
   "outputs": [
    {
     "data": {
      "text/plain": [
       "Text(0, 0.5, 'VADER composite')"
      ]
     },
     "execution_count": 43,
     "metadata": {},
     "output_type": "execute_result"
    },
    {
     "data": {
      "image/png": "[encoded data removed]",
      "text/plain": [
       "<Figure size 432x288 with 1 Axes>"
      ]
     },
     "metadata": {
      "needs_background": "light"
     },
     "output_type": "display_data"
    }
   ],
   "source": [
    "train.boxplot('vader', by='overall', grid=False, showfliers=False) # showfliers shows or hides outliers, in this case there are a lot of them\n",
    "plt.ylabel('VADER composite')"
   ]
  },
  {
   "cell_type": "code",
   "execution_count": 44,
   "id": "veterinary-colors",
   "metadata": {},
   "outputs": [
    {
     "data": {
      "text/plain": [
       "0.8085"
      ]
     },
     "execution_count": 44,
     "metadata": {},
     "output_type": "execute_result"
    }
   ],
   "source": [
    "accuracy_score((train['vader']>0.75),(train['sentiment']=='good'))"
   ]
  },
  {
   "cell_type": "code",
   "execution_count": 45,
   "id": "partial-possible",
   "metadata": {},
   "outputs": [],
   "source": [
    "xs = np.linspace(-1.0, 1.0, 50)\n",
    "ys =[accuracy_score((train['vader']>x),(train['sentiment']=='good')) for x in xs]"
   ]
  },
  {
   "cell_type": "code",
   "execution_count": 46,
   "id": "excellent-guatemala",
   "metadata": {},
   "outputs": [
    {
     "data": {
      "text/plain": [
       "Text(0, 0.5, 'Train acc.')"
      ]
     },
     "execution_count": 46,
     "metadata": {},
     "output_type": "execute_result"
    },
    {
     "data": {
      "image/png": "[encoded data removed]",
      "text/plain": [
       "<Figure size 432x288 with 1 Axes>"
      ]
     },
     "metadata": {
      "needs_background": "light"
     },
     "output_type": "display_data"
    }
   ],
   "source": [
    "plt.plot(xs, ys)\n",
    "plt.xlabel('VADER cutoff')\n",
    "plt.ylabel('Train acc.')"
   ]
  },
  {
   "cell_type": "code",
   "execution_count": 47,
   "id": "apparent-treatment",
   "metadata": {},
   "outputs": [
    {
     "data": {
      "text/plain": [
       "0.5918367346938773"
      ]
     },
     "execution_count": 47,
     "metadata": {},
     "output_type": "execute_result"
    }
   ],
   "source": [
    "# this gives us the cutoff value that gives us the highest accuracy\n",
    "xs[np.argmax(ys)]"
   ]
  },
  {
   "cell_type": "code",
   "execution_count": 48,
   "id": "serial-baltimore",
   "metadata": {},
   "outputs": [
    {
     "data": {
      "text/plain": [
       "0.8127"
      ]
     },
     "execution_count": 48,
     "metadata": {},
     "output_type": "execute_result"
    }
   ],
   "source": [
    "thresh = _ # again, _ means use the output of the previous cell\n",
    "accuracy_score((train['vader']>thresh),(train['sentiment']=='good'))"
   ]
  },
  {
   "cell_type": "code",
   "execution_count": 49,
   "id": "rising-flesh",
   "metadata": {},
   "outputs": [
    {
     "data": {
      "text/plain": [
       "0.8179"
      ]
     },
     "execution_count": 49,
     "metadata": {},
     "output_type": "execute_result"
    }
   ],
   "source": [
    "accuracy_score((test['vader']>thresh),(test['sentiment']=='good'))"
   ]
  },
  {
   "cell_type": "markdown",
   "id": "removable-massage",
   "metadata": {},
   "source": [
    "---"
   ]
  },
  {
   "cell_type": "code",
   "execution_count": 50,
   "id": "second-mystery",
   "metadata": {},
   "outputs": [
    {
     "data": {
      "text/plain": [
       "\"You don't get what you pay for. This is a very very expnsive hotel for the ammenities you get. \\nI spent $13.00 for a one page facsimile in their business center!\\nI spent $50 bucks a night to park my car in the hotel.\\nI spent $24 bucks for a drink in their bar.\\nIf money is not an object, it's a beautiful hotel. It's conveniently located. Service is not bad but not 4 star that's for sure. The rooms are not bad but a bit on the small side. The food is decent. Their brunch is good and of course...very expensive.\\nThere are better places for the money that I will stay at next time unless there is some special pricing going on here.\""
      ]
     },
     "execution_count": 50,
     "metadata": {},
     "output_type": "execute_result"
    }
   ],
   "source": [
    "# Vader score > .9 so vader thinks that it is a good review\n",
    "# But it is actually a bad review\n",
    "train[(train['vader']>.9)&(train['sentiment']=='bad')]['text'].iloc[0]"
   ]
  },
  {
   "cell_type": "code",
   "execution_count": 51,
   "id": "adult-excuse",
   "metadata": {},
   "outputs": [
    {
     "data": {
      "text/plain": [
       "{'neg': 0.009, 'neu': 0.816, 'pos': 0.174, 'compound': 0.97}"
      ]
     },
     "execution_count": 51,
     "metadata": {},
     "output_type": "execute_result"
    }
   ],
   "source": [
    "analyzer.polarity_scores(_)"
   ]
  },
  {
   "cell_type": "code",
   "execution_count": 52,
   "id": "based-flooring",
   "metadata": {},
   "outputs": [
    {
     "data": {
      "text/plain": [
       "'I stayed for 10 days in a room in the second floor. The location is not far from freeway driveway wich was an advantage for me.The hotel is obviously ageing, but the room appeared to be clean. Breakfast was simple but ok. Regular coffee was very weak, could be much stronger because they also offer caffeine free coffee.\\nRegarding the pool: Do not expect big sunny area around the pool. The pool is cooped up between the two wings of building and often in shade. There is not much space for sunbathing left. \\nThe stuff was very friendly and helpful. \\nResume: A hotel where you can go for shower and sleep without worrying about hygiene problems. For relaxing on the pool its defenetly not the right place.'"
      ]
     },
     "execution_count": 52,
     "metadata": {},
     "output_type": "execute_result"
    }
   ],
   "source": [
    "train[(train['vader']>.9)&(train['sentiment']=='bad')]['text'].iloc[1]"
   ]
  },
  {
   "cell_type": "code",
   "execution_count": 53,
   "id": "educated-reliance",
   "metadata": {},
   "outputs": [
    {
     "data": {
      "text/plain": [
       "{'neg': 0.077, 'neu': 0.719, 'pos': 0.203, 'compound': 0.966}"
      ]
     },
     "execution_count": 53,
     "metadata": {},
     "output_type": "execute_result"
    }
   ],
   "source": [
    "analyzer.polarity_scores(_)"
   ]
  },
  {
   "cell_type": "code",
   "execution_count": 54,
   "id": "moving-taxation",
   "metadata": {},
   "outputs": [
    {
     "data": {
      "text/plain": [
       "\"The MO at San Francisco has the most amazing views. We booked a bridge to bridge view suite. Essentially this meant we could view the entire bay area from our room.\\nThe hotel is in more of the business district than the tourist area, which didn't really bother us but might be a drag for others. The hotel forms part of an office building and at times it does feel like it. \\nStaying at the weekend the hotel was very quiet and the bar area deadly in the evenings, you didn't really want to hang around and enjoy a pre dinner drink there. As I already mentioned it is in the business district and I suspect caterers more for the single business traveller.\\nThe hotel was clean but it was beginning to look a little tired and drab. The bathroom in particular looked and felt like it had a long and hard life.\\nWe had breakfast in the room every morning and this we loved. The service was quick and when an items was missing was very promptly replaced. \\nThe bed was huge and very firm and position so that you could look out of all the windows across San Francisco. This was a great spot to what the fog roll in. You are supplied with biniculars in the room if you wanted to be a little nosier.\\nThe conceirge service was excellent - the best I've experienced anywhere in the world.\\nOverall a good hotel stay and for any other hotel this rating would have be 'very good' but because of the tired looking rooms - which I believe they are renovating - I'm only scoring 'good'.\""
      ]
     },
     "execution_count": 54,
     "metadata": {},
     "output_type": "execute_result"
    }
   ],
   "source": [
    "train[(train['vader']>.9)&(train['sentiment']=='bad')]['text'].iloc[2]"
   ]
  },
  {
   "cell_type": "code",
   "execution_count": 55,
   "id": "literary-occupation",
   "metadata": {},
   "outputs": [
    {
     "data": {
      "text/plain": [
       "{'neg': 0.058, 'neu': 0.779, 'pos': 0.163, 'compound': 0.9899}"
      ]
     },
     "execution_count": 55,
     "metadata": {},
     "output_type": "execute_result"
    }
   ],
   "source": [
    "analyzer.polarity_scores(_)"
   ]
  },
  {
   "cell_type": "code",
   "execution_count": 56,
   "id": "confirmed-prerequisite",
   "metadata": {},
   "outputs": [
    {
     "data": {
      "application/vnd.jupyter.widget-view+json": {
       "model_id": "c4c8868120854219a61c617162c7fef1",
       "version_major": 2,
       "version_minor": 0
      },
      "text/plain": [
       "  0%|          | 0/40000 [00:00<?, ?it/s]"
      ]
     },
     "metadata": {},
     "output_type": "display_data"
    },
    {
     "data": {
      "application/vnd.jupyter.widget-view+json": {
       "model_id": "f977ccde2f8f454293371309249d558e",
       "version_major": 2,
       "version_minor": 0
      },
      "text/plain": [
       "  0%|          | 0/10000 [00:00<?, ?it/s]"
      ]
     },
     "metadata": {},
     "output_type": "display_data"
    }
   ],
   "source": [
    "def get_diff(text):\n",
    "    scores = analyzer.polarity_scores(text)\n",
    "    return scores['pos'] - scores['neg']\n",
    "\n",
    "with mp.Pool() as p:\n",
    "    train['vader_diff'] = list(p.imap(get_diff, tqdm(train['text']), chunksize=500))\n",
    "    test['vader_diff'] = list(p.imap(get_diff, tqdm(test['text']), chunksize=500))"
   ]
  },
  {
   "cell_type": "code",
   "execution_count": 57,
   "id": "primary-authorization",
   "metadata": {},
   "outputs": [
    {
     "data": {
      "text/plain": [
       "Text(0, 0.5, 'VADER pos - VADER neg')"
      ]
     },
     "execution_count": 57,
     "metadata": {},
     "output_type": "execute_result"
    },
    {
     "data": {
      "image/png": "[encoded data removed]",
      "text/plain": [
       "<Figure size 432x288 with 1 Axes>"
      ]
     },
     "metadata": {
      "needs_background": "light"
     },
     "output_type": "display_data"
    }
   ],
   "source": [
    "train.boxplot('vader_diff', by='overall', grid=False, showfliers=False)\n",
    "plt.ylabel('VADER pos - VADER neg')"
   ]
  },
  {
   "cell_type": "code",
   "execution_count": 58,
   "id": "annual-participation",
   "metadata": {},
   "outputs": [
    {
     "data": {
      "text/plain": [
       "Text(0, 0.5, 'Train acc.')"
      ]
     },
     "execution_count": 58,
     "metadata": {},
     "output_type": "execute_result"
    },
    {
     "data": {
      "image/png": "[encoded data removed]",
      "text/plain": [
       "<Figure size 432x288 with 1 Axes>"
      ]
     },
     "metadata": {
      "needs_background": "light"
     },
     "output_type": "display_data"
    }
   ],
   "source": [
    "xs = np.linspace(-1.0, 1.0, 100)\n",
    "ys =[accuracy_score((train['vader_diff']>x),(train['sentiment']=='good')) for x in xs]\n",
    "\n",
    "plt.plot(xs, ys)\n",
    "plt.xlabel('VADER cutoff')\n",
    "plt.ylabel('Train acc.')"
   ]
  },
  {
   "cell_type": "code",
   "execution_count": 59,
   "id": "suffering-machinery",
   "metadata": {},
   "outputs": [
    {
     "data": {
      "text/plain": [
       "0.05050505050505061"
      ]
     },
     "execution_count": 59,
     "metadata": {},
     "output_type": "execute_result"
    }
   ],
   "source": [
    "thresh = xs[np.argmax(ys)]\n",
    "thresh"
   ]
  },
  {
   "cell_type": "code",
   "execution_count": 60,
   "id": "immune-addiction",
   "metadata": {},
   "outputs": [
    {
     "data": {
      "text/plain": [
       "0.837"
      ]
     },
     "execution_count": 60,
     "metadata": {},
     "output_type": "execute_result"
    }
   ],
   "source": [
    "accuracy_score((test['vader_diff']>thresh),(test['sentiment']=='good'))"
   ]
  },
  {
   "cell_type": "code",
   "execution_count": null,
   "id": "allied-parts",
   "metadata": {},
   "outputs": [],
   "source": []
  }
 ],
 "metadata": {
  "kernelspec": {
   "display_name": "Python 3",
   "language": "python",
   "name": "python3"
  },
  "language_info": {
   "codemirror_mode": {
    "name": "ipython",
    "version": 3
   },
   "file_extension": ".py",
   "mimetype": "text/x-python",
   "name": "python",
   "nbconvert_exporter": "python",
   "pygments_lexer": "ipython3",
   "version": "3.8.6"
  }
 },
 "nbformat": 4,
 "nbformat_minor": 5
}
