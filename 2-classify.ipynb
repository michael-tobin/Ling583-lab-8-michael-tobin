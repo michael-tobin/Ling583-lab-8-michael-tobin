{
 "cells": [
  {
   "cell_type": "markdown",
   "id": "honest-interval",
   "metadata": {},
   "source": [
    "# Sentiment analysis\n",
    "Construct a text classifier that predicts sentiment labels as if they were topics"
   ]
  },
  {
   "cell_type": "code",
   "execution_count": 1,
   "id": "demonstrated-prayer",
   "metadata": {},
   "outputs": [],
   "source": [
    "import numpy as np\n",
    "import pandas as pd\n",
    "from cytoolz import *\n",
    "from tqdm.auto import tqdm\n",
    "\n",
    "tqdm.pandas()"
   ]
  },
  {
   "cell_type": "code",
   "execution_count": 2,
   "id": "sunrise-mechanism",
   "metadata": {},
   "outputs": [],
   "source": [
    "df = pd.read_parquet('s3://ling583/sentiment.parquet', storage_options={'anon': True})"
   ]
  },
  {
   "cell_type": "markdown",
   "id": "simple-artist",
   "metadata": {},
   "source": [
    "-----"
   ]
  },
  {
   "cell_type": "code",
   "execution_count": 3,
   "id": "unexpected-consideration",
   "metadata": {},
   "outputs": [],
   "source": [
    "from sklearn.model_selection import train_test_split"
   ]
  },
  {
   "cell_type": "code",
   "execution_count": 4,
   "id": "detailed-designation",
   "metadata": {},
   "outputs": [],
   "source": [
    "train1, test1 = train_test_split(df, test_size=0.2, stratify=df[\"sentiment\"], random_state=619)"
   ]
  },
  {
   "cell_type": "code",
   "execution_count": 5,
   "id": "bottom-license",
   "metadata": {},
   "outputs": [
    {
     "data": {
      "text/html": [
       "<div>\n",
       "<style scoped>\n",
       "    .dataframe tbody tr th:only-of-type {\n",
       "        vertical-align: middle;\n",
       "    }\n",
       "\n",
       "    .dataframe tbody tr th {\n",
       "        vertical-align: top;\n",
       "    }\n",
       "\n",
       "    .dataframe thead th {\n",
       "        text-align: right;\n",
       "    }\n",
       "</style>\n",
       "<table border=\"1\" class=\"dataframe\">\n",
       "  <thead>\n",
       "    <tr style=\"text-align: right;\">\n",
       "      <th></th>\n",
       "      <th>title</th>\n",
       "      <th>text</th>\n",
       "      <th>date_stayed</th>\n",
       "      <th>date</th>\n",
       "      <th>service</th>\n",
       "      <th>cleanliness</th>\n",
       "      <th>overall</th>\n",
       "      <th>value</th>\n",
       "      <th>location</th>\n",
       "      <th>sleep_quality</th>\n",
       "      <th>rooms</th>\n",
       "      <th>locality</th>\n",
       "      <th>name</th>\n",
       "      <th>sentiment</th>\n",
       "    </tr>\n",
       "  </thead>\n",
       "  <tbody>\n",
       "    <tr>\n",
       "      <th>0</th>\n",
       "      <td>“The Place to Stay in Manhattan! Simply Superb!”</td>\n",
       "      <td>I have been to New york before and stayed in t...</td>\n",
       "      <td>December 2008</td>\n",
       "      <td>2009-06-18</td>\n",
       "      <td>4.0</td>\n",
       "      <td>5.0</td>\n",
       "      <td>5.0</td>\n",
       "      <td>5.0</td>\n",
       "      <td>5.0</td>\n",
       "      <td>NaN</td>\n",
       "      <td>5.0</td>\n",
       "      <td>New York City</td>\n",
       "      <td>Wingate by Wyndham Manhattan Midtown</td>\n",
       "      <td>good</td>\n",
       "    </tr>\n",
       "    <tr>\n",
       "      <th>1</th>\n",
       "      <td>“Howard Johnson, Phoenix”</td>\n",
       "      <td>The hotel is located one mile from Sky Harbor ...</td>\n",
       "      <td>January 2012</td>\n",
       "      <td>2012-01-17</td>\n",
       "      <td>4.0</td>\n",
       "      <td>3.0</td>\n",
       "      <td>3.0</td>\n",
       "      <td>3.0</td>\n",
       "      <td>5.0</td>\n",
       "      <td>2.0</td>\n",
       "      <td>3.0</td>\n",
       "      <td>Phoenix</td>\n",
       "      <td>Howard Johnson Phoenix Airport/Downtown Area</td>\n",
       "      <td>bad</td>\n",
       "    </tr>\n",
       "    <tr>\n",
       "      <th>2</th>\n",
       "      <td>“Pier 5 hotel was unlike any other hotel we ha...</td>\n",
       "      <td>Most hotels and hotel rooms look the same but ...</td>\n",
       "      <td>September 2009</td>\n",
       "      <td>2009-10-09</td>\n",
       "      <td>4.0</td>\n",
       "      <td>5.0</td>\n",
       "      <td>4.0</td>\n",
       "      <td>4.0</td>\n",
       "      <td>5.0</td>\n",
       "      <td>NaN</td>\n",
       "      <td>5.0</td>\n",
       "      <td>Baltimore</td>\n",
       "      <td>Pier 5 Hotel</td>\n",
       "      <td>good</td>\n",
       "    </tr>\n",
       "    <tr>\n",
       "      <th>3</th>\n",
       "      <td>“New York's best kept secret...well, not so se...</td>\n",
       "      <td>Excellent rooms, wonderful service......value ...</td>\n",
       "      <td>July 2011</td>\n",
       "      <td>2011-09-04</td>\n",
       "      <td>5.0</td>\n",
       "      <td>5.0</td>\n",
       "      <td>5.0</td>\n",
       "      <td>5.0</td>\n",
       "      <td>NaN</td>\n",
       "      <td>5.0</td>\n",
       "      <td>NaN</td>\n",
       "      <td>New York City</td>\n",
       "      <td>On The Ave Hotel</td>\n",
       "      <td>good</td>\n",
       "    </tr>\n",
       "    <tr>\n",
       "      <th>4</th>\n",
       "      <td>“Cheerful Location-Best Value.”</td>\n",
       "      <td>We recently stayed for 5 nights in Hotel 140. ...</td>\n",
       "      <td>March 2012</td>\n",
       "      <td>2012-03-23</td>\n",
       "      <td>4.0</td>\n",
       "      <td>4.0</td>\n",
       "      <td>4.0</td>\n",
       "      <td>5.0</td>\n",
       "      <td>5.0</td>\n",
       "      <td>4.0</td>\n",
       "      <td>4.0</td>\n",
       "      <td>Boston</td>\n",
       "      <td>Hotel 140</td>\n",
       "      <td>good</td>\n",
       "    </tr>\n",
       "    <tr>\n",
       "      <th>...</th>\n",
       "      <td>...</td>\n",
       "      <td>...</td>\n",
       "      <td>...</td>\n",
       "      <td>...</td>\n",
       "      <td>...</td>\n",
       "      <td>...</td>\n",
       "      <td>...</td>\n",
       "      <td>...</td>\n",
       "      <td>...</td>\n",
       "      <td>...</td>\n",
       "      <td>...</td>\n",
       "      <td>...</td>\n",
       "      <td>...</td>\n",
       "      <td>...</td>\n",
       "    </tr>\n",
       "    <tr>\n",
       "      <th>39995</th>\n",
       "      <td>“WOW!!”</td>\n",
       "      <td>I was apprehensive to stay on the \"edge\" of do...</td>\n",
       "      <td>August 2011</td>\n",
       "      <td>2011-12-17</td>\n",
       "      <td>5.0</td>\n",
       "      <td>4.0</td>\n",
       "      <td>5.0</td>\n",
       "      <td>5.0</td>\n",
       "      <td>4.0</td>\n",
       "      <td>5.0</td>\n",
       "      <td>5.0</td>\n",
       "      <td>Seattle</td>\n",
       "      <td>Hyatt At Olive 8</td>\n",
       "      <td>good</td>\n",
       "    </tr>\n",
       "    <tr>\n",
       "      <th>39996</th>\n",
       "      <td>“basic cosy and comfortable”</td>\n",
       "      <td>We stayed during the hurricaine Sandy and foun...</td>\n",
       "      <td>October 2012</td>\n",
       "      <td>2012-11-09</td>\n",
       "      <td>3.0</td>\n",
       "      <td>4.0</td>\n",
       "      <td>4.0</td>\n",
       "      <td>3.0</td>\n",
       "      <td>5.0</td>\n",
       "      <td>3.0</td>\n",
       "      <td>4.0</td>\n",
       "      <td>New York City</td>\n",
       "      <td>The Hotel at Times Square</td>\n",
       "      <td>good</td>\n",
       "    </tr>\n",
       "    <tr>\n",
       "      <th>39997</th>\n",
       "      <td>“Super place, don't be turned off by how it lo...</td>\n",
       "      <td>Really nice place to stay. Had a room in the c...</td>\n",
       "      <td>June 2012</td>\n",
       "      <td>2012-07-31</td>\n",
       "      <td>5.0</td>\n",
       "      <td>5.0</td>\n",
       "      <td>5.0</td>\n",
       "      <td>5.0</td>\n",
       "      <td>5.0</td>\n",
       "      <td>4.0</td>\n",
       "      <td>5.0</td>\n",
       "      <td>San Francisco</td>\n",
       "      <td>Marina Motel</td>\n",
       "      <td>good</td>\n",
       "    </tr>\n",
       "    <tr>\n",
       "      <th>39998</th>\n",
       "      <td>“Well located and friendly”</td>\n",
       "      <td>The MOTEL was very close to downtown which was...</td>\n",
       "      <td>March 2012</td>\n",
       "      <td>2012-03-27</td>\n",
       "      <td>5.0</td>\n",
       "      <td>2.0</td>\n",
       "      <td>3.0</td>\n",
       "      <td>4.0</td>\n",
       "      <td>4.0</td>\n",
       "      <td>4.0</td>\n",
       "      <td>3.0</td>\n",
       "      <td>Phoenix</td>\n",
       "      <td>Americas Best Value Inn - Downtown Phoenix</td>\n",
       "      <td>bad</td>\n",
       "    </tr>\n",
       "    <tr>\n",
       "      <th>39999</th>\n",
       "      <td>“Loved It perfect location”</td>\n",
       "      <td>I was at this hotel just last month and it was...</td>\n",
       "      <td>July 2011</td>\n",
       "      <td>2011-08-17</td>\n",
       "      <td>5.0</td>\n",
       "      <td>5.0</td>\n",
       "      <td>5.0</td>\n",
       "      <td>5.0</td>\n",
       "      <td>NaN</td>\n",
       "      <td>5.0</td>\n",
       "      <td>NaN</td>\n",
       "      <td>Los Angeles</td>\n",
       "      <td>Four Seasons Hotel Los Angeles at Beverly Hills</td>\n",
       "      <td>good</td>\n",
       "    </tr>\n",
       "  </tbody>\n",
       "</table>\n",
       "<p>40000 rows × 14 columns</p>\n",
       "</div>"
      ],
      "text/plain": [
       "                                                   title  \\\n",
       "0       “The Place to Stay in Manhattan! Simply Superb!”   \n",
       "1                              “Howard Johnson, Phoenix”   \n",
       "2      “Pier 5 hotel was unlike any other hotel we ha...   \n",
       "3      “New York's best kept secret...well, not so se...   \n",
       "4                        “Cheerful Location-Best Value.”   \n",
       "...                                                  ...   \n",
       "39995                                            “WOW!!”   \n",
       "39996                       “basic cosy and comfortable”   \n",
       "39997  “Super place, don't be turned off by how it lo...   \n",
       "39998                        “Well located and friendly”   \n",
       "39999                        “Loved It perfect location”   \n",
       "\n",
       "                                                    text     date_stayed  \\\n",
       "0      I have been to New york before and stayed in t...   December 2008   \n",
       "1      The hotel is located one mile from Sky Harbor ...    January 2012   \n",
       "2      Most hotels and hotel rooms look the same but ...  September 2009   \n",
       "3      Excellent rooms, wonderful service......value ...       July 2011   \n",
       "4      We recently stayed for 5 nights in Hotel 140. ...      March 2012   \n",
       "...                                                  ...             ...   \n",
       "39995  I was apprehensive to stay on the \"edge\" of do...     August 2011   \n",
       "39996  We stayed during the hurricaine Sandy and foun...    October 2012   \n",
       "39997  Really nice place to stay. Had a room in the c...       June 2012   \n",
       "39998  The MOTEL was very close to downtown which was...      March 2012   \n",
       "39999  I was at this hotel just last month and it was...       July 2011   \n",
       "\n",
       "            date  service  cleanliness  overall  value  location  \\\n",
       "0     2009-06-18      4.0          5.0      5.0    5.0       5.0   \n",
       "1     2012-01-17      4.0          3.0      3.0    3.0       5.0   \n",
       "2     2009-10-09      4.0          5.0      4.0    4.0       5.0   \n",
       "3     2011-09-04      5.0          5.0      5.0    5.0       NaN   \n",
       "4     2012-03-23      4.0          4.0      4.0    5.0       5.0   \n",
       "...          ...      ...          ...      ...    ...       ...   \n",
       "39995 2011-12-17      5.0          4.0      5.0    5.0       4.0   \n",
       "39996 2012-11-09      3.0          4.0      4.0    3.0       5.0   \n",
       "39997 2012-07-31      5.0          5.0      5.0    5.0       5.0   \n",
       "39998 2012-03-27      5.0          2.0      3.0    4.0       4.0   \n",
       "39999 2011-08-17      5.0          5.0      5.0    5.0       NaN   \n",
       "\n",
       "       sleep_quality  rooms       locality  \\\n",
       "0                NaN    5.0  New York City   \n",
       "1                2.0    3.0        Phoenix   \n",
       "2                NaN    5.0      Baltimore   \n",
       "3                5.0    NaN  New York City   \n",
       "4                4.0    4.0         Boston   \n",
       "...              ...    ...            ...   \n",
       "39995            5.0    5.0        Seattle   \n",
       "39996            3.0    4.0  New York City   \n",
       "39997            4.0    5.0  San Francisco   \n",
       "39998            4.0    3.0        Phoenix   \n",
       "39999            5.0    NaN    Los Angeles   \n",
       "\n",
       "                                                  name sentiment  \n",
       "0                 Wingate by Wyndham Manhattan Midtown      good  \n",
       "1         Howard Johnson Phoenix Airport/Downtown Area       bad  \n",
       "2                                         Pier 5 Hotel      good  \n",
       "3                                     On The Ave Hotel      good  \n",
       "4                                            Hotel 140      good  \n",
       "...                                                ...       ...  \n",
       "39995                                 Hyatt At Olive 8      good  \n",
       "39996                        The Hotel at Times Square      good  \n",
       "39997                                     Marina Motel      good  \n",
       "39998       Americas Best Value Inn - Downtown Phoenix       bad  \n",
       "39999  Four Seasons Hotel Los Angeles at Beverly Hills      good  \n",
       "\n",
       "[40000 rows x 14 columns]"
      ]
     },
     "execution_count": 5,
     "metadata": {},
     "output_type": "execute_result"
    }
   ],
   "source": [
    "test = test1.copy().reset_index(drop=True)\n",
    "train = train1.copy().reset_index(drop=True)\n",
    "train"
   ]
  },
  {
   "cell_type": "code",
   "execution_count": 6,
   "id": "corresponding-sucking",
   "metadata": {},
   "outputs": [],
   "source": [
    "import spacy\n",
    "\n",
    "nlp = spacy.load(\n",
    "    \"en_core_web_sm\",\n",
    "    exclude=[\"tagger\", \"parser\", \"ner\", \"lemmatizer\", \"attribute_ruler\"],\n",
    ")\n",
    "\n",
    "\n",
    "def tokenize(text):\n",
    "    doc = nlp.tokenizer(text)\n",
    "    return [t.norm_ for t in doc if not (t.is_space or t.is_punct or t.like_num)]"
   ]
  },
  {
   "cell_type": "code",
   "execution_count": 7,
   "id": "smart-affiliation",
   "metadata": {},
   "outputs": [
    {
     "data": {
      "application/vnd.jupyter.widget-view+json": {
       "model_id": "82ab132b61594b32b7b4c81b62b99af1",
       "version_major": 2,
       "version_minor": 0
      },
      "text/plain": [
       "  0%|          | 0/40000 [00:00<?, ?it/s]"
      ]
     },
     "metadata": {},
     "output_type": "display_data"
    },
    {
     "data": {
      "application/vnd.jupyter.widget-view+json": {
       "model_id": "b167130d182c42dcb51325b82240de05",
       "version_major": 2,
       "version_minor": 0
      },
      "text/plain": [
       "  0%|          | 0/10000 [00:00<?, ?it/s]"
      ]
     },
     "metadata": {},
     "output_type": "display_data"
    }
   ],
   "source": [
    "import multiprocessing as mp\n",
    "with mp.Pool() as p:\n",
    "    train[\"tokens\"] = pd.Series(p.imap(tokenize, tqdm(train[\"text\"]), chunksize=100))\n",
    "    test[\"tokens\"] = pd.Series(p.imap(tokenize, tqdm(test[\"text\"]), chunksize=100))"
   ]
  },
  {
   "cell_type": "markdown",
   "id": "downtown-report",
   "metadata": {},
   "source": [
    "---\n",
    "\n",
    "## Baseline classifier"
   ]
  },
  {
   "cell_type": "code",
   "execution_count": 8,
   "id": "parental-reliance",
   "metadata": {},
   "outputs": [],
   "source": [
    "from sklearn.feature_extraction.text import CountVectorizer, TfidfTransformer\n",
    "from sklearn.linear_model import SGDClassifier\n",
    "from sklearn.metrics import classification_report, f1_score\n",
    "from sklearn.pipeline import make_pipeline"
   ]
  },
  {
   "cell_type": "code",
   "execution_count": 9,
   "id": "coordinated-paradise",
   "metadata": {},
   "outputs": [
    {
     "name": "stdout",
     "output_type": "stream",
     "text": [
      "              precision    recall  f1-score   support\n",
      "\n",
      "         bad       0.87      0.65      0.75      2678\n",
      "        good       0.88      0.96      0.92      7322\n",
      "\n",
      "    accuracy                           0.88     10000\n",
      "   macro avg       0.88      0.81      0.83     10000\n",
      "weighted avg       0.88      0.88      0.88     10000\n",
      "\n"
     ]
    }
   ],
   "source": [
    "baseline = make_pipeline(CountVectorizer(analyzer=identity), SGDClassifier())\n",
    "baseline.fit(train[\"tokens\"], train[\"sentiment\"])\n",
    "base_predicted = baseline.predict(test[\"tokens\"])\n",
    "print(classification_report(test[\"sentiment\"], base_predicted))"
   ]
  },
  {
   "cell_type": "markdown",
   "id": "russian-receipt",
   "metadata": {},
   "source": [
    "----\n",
    "\n",
    "## Hyperparameter search\n",
    "\n",
    "Find an optimal set of hyperparameters for a Tfidf+SGDClassifier model"
   ]
  },
  {
   "cell_type": "code",
   "execution_count": 10,
   "id": "developed-starter",
   "metadata": {},
   "outputs": [],
   "source": [
    "import mlflow\n",
    "from dask_ml.model_selection import RandomizedSearchCV\n",
    "from logger import log_search\n",
    "from scipy.stats.distributions import loguniform, randint, uniform"
   ]
  },
  {
   "cell_type": "code",
   "execution_count": 11,
   "id": "governing-shipping",
   "metadata": {},
   "outputs": [],
   "source": [
    "from warnings import simplefilter\n",
    "\n",
    "simplefilter(action=\"ignore\", category=FutureWarning)"
   ]
  },
  {
   "cell_type": "code",
   "execution_count": 13,
   "id": "still-entity",
   "metadata": {},
   "outputs": [
    {
     "data": {
      "text/html": [
       "<table style=\"border: 2px solid white;\">\n",
       "<tr>\n",
       "<td style=\"vertical-align: top; border: 0px solid white\">\n",
       "<h3 style=\"text-align: left;\">Client</h3>\n",
       "<ul style=\"text-align: left; list-style: none; margin: 0; padding: 0;\">\n",
       "  <li><b>Scheduler: </b>tcp://127.0.0.1:46089</li>\n",
       "  <li><b>Dashboard: </b><a href='http://127.0.0.1:8787/status' target='_blank'>http://127.0.0.1:8787/status</a></li>\n",
       "</ul>\n",
       "</td>\n",
       "<td style=\"vertical-align: top; border: 0px solid white\">\n",
       "<h3 style=\"text-align: left;\">Cluster</h3>\n",
       "<ul style=\"text-align: left; list-style:none; margin: 0; padding: 0;\">\n",
       "  <li><b>Workers: </b>4</li>\n",
       "  <li><b>Cores: </b>4</li>\n",
       "  <li><b>Memory: </b>16.62 GB</li>\n",
       "</ul>\n",
       "</td>\n",
       "</tr>\n",
       "</table>"
      ],
      "text/plain": [
       "<Client: 'tcp://127.0.0.1:46089' processes=4 threads=4, memory=16.62 GB>"
      ]
     },
     "execution_count": 13,
     "metadata": {},
     "output_type": "execute_result"
    }
   ],
   "source": [
    "from dask.distributed import Client\n",
    "\n",
    "client = Client(\"tcp://127.0.0.1:46089\")\n",
    "client"
   ]
  },
  {
   "cell_type": "code",
   "execution_count": 14,
   "id": "hazardous-recipient",
   "metadata": {},
   "outputs": [],
   "source": [
    "mlflow.set_experiment(\"lab-8\")\n",
    "sgd = make_pipeline(\n",
    "    CountVectorizer(analyzer=identity), TfidfTransformer(), SGDClassifier()\n",
    ")\n",
    "# Skeleton classifier"
   ]
  },
  {
   "cell_type": "code",
   "execution_count": 15,
   "id": "rubber-soldier",
   "metadata": {},
   "outputs": [
    {
     "name": "stdout",
     "output_type": "stream",
     "text": [
      "CPU times: user 10.7 s, sys: 1.54 s, total: 12.2 s\n",
      "Wall time: 3min 21s\n"
     ]
    }
   ],
   "source": [
    "%%time\n",
    "\n",
    "search = RandomizedSearchCV(\n",
    "    sgd,\n",
    "    {\n",
    "        \"countvectorizer__min_df\": randint(1, 20),\n",
    "        \"countvectorizer__max_df\": uniform(0.5, 0.5),\n",
    "        \"tfidftransformer__use_idf\": [True, False],\n",
    "        \"sgdclassifier__alpha\": loguniform(1e-6, 1e-2),\n",
    "    },\n",
    "    n_iter=50,\n",
    "    scoring=\"f1_macro\",\n",
    ")\n",
    "search.fit(train[\"tokens\"], train[\"sentiment\"])\n",
    "log_search(search)"
   ]
  },
  {
   "cell_type": "markdown",
   "id": "valid-andorra",
   "metadata": {},
   "source": [
    "---\n",
    "\n",
    "## Compare optimized model to baseline"
   ]
  },
  {
   "cell_type": "code",
   "execution_count": 26,
   "id": "transparent-nicaragua",
   "metadata": {},
   "outputs": [
    {
     "name": "stdout",
     "output_type": "stream",
     "text": [
      "              precision    recall  f1-score   support\n",
      "\n",
      "         bad       0.85      0.77      0.81      2678\n",
      "        good       0.92      0.95      0.93      7322\n",
      "\n",
      "    accuracy                           0.90     10000\n",
      "   macro avg       0.88      0.86      0.87     10000\n",
      "weighted avg       0.90      0.90      0.90     10000\n",
      "\n"
     ]
    }
   ],
   "source": [
    "sgd = make_pipeline(\n",
    "    CountVectorizer(analyzer=identity, min_df=12, max_df=0.84),\n",
    "    TfidfTransformer(use_idf=True),\n",
    "    SGDClassifier(alpha=5.4e-5),\n",
    ")\n",
    "sgd.fit(train[\"tokens\"], train[\"sentiment\"])\n",
    "predicted = sgd.predict(test[\"tokens\"])\n",
    "print(classification_report(test[\"sentiment\"], predicted))"
   ]
  },
  {
   "cell_type": "code",
   "execution_count": 27,
   "id": "floating-algorithm",
   "metadata": {},
   "outputs": [],
   "source": [
    "base_f1 = f1_score(test[\"sentiment\"], base_predicted, average=\"macro\")\n",
    "sgd_f1 = f1_score(test[\"sentiment\"], predicted, average=\"macro\")"
   ]
  },
  {
   "cell_type": "code",
   "execution_count": 1,
   "id": "funded-champagne",
   "metadata": {},
   "outputs": [
    {
     "ename": "NameError",
     "evalue": "name 'base_f1' is not defined",
     "output_type": "error",
     "traceback": [
      "\u001b[0;31m---------------------------------------------------------------------------\u001b[0m",
      "\u001b[0;31mNameError\u001b[0m                                 Traceback (most recent call last)",
      "\u001b[0;32m<ipython-input-1-eb335d1da3ca>\u001b[0m in \u001b[0;36m<module>\u001b[0;34m\u001b[0m\n\u001b[0;32m----> 1\u001b[0;31m \u001b[0mprint\u001b[0m\u001b[0;34m(\u001b[0m\u001b[0;34mf\"Base F1 score: {base_f1}\"\u001b[0m\u001b[0;34m)\u001b[0m\u001b[0;34m\u001b[0m\u001b[0;34m\u001b[0m\u001b[0m\n\u001b[0m\u001b[1;32m      2\u001b[0m \u001b[0mprint\u001b[0m\u001b[0;34m(\u001b[0m\u001b[0;34mf\"SGD F1 score:  {sgd_f1}\"\u001b[0m\u001b[0;34m)\u001b[0m\u001b[0;34m\u001b[0m\u001b[0;34m\u001b[0m\u001b[0m\n\u001b[1;32m      3\u001b[0m \u001b[0mprint\u001b[0m\u001b[0;34m(\u001b[0m\u001b[0;34mf\"Difference:    {sgd_f1 - base_f1}\"\u001b[0m\u001b[0;34m)\u001b[0m\u001b[0;34m\u001b[0m\u001b[0;34m\u001b[0m\u001b[0m\n\u001b[1;32m      4\u001b[0m \u001b[0mprint\u001b[0m\u001b[0;34m(\u001b[0m\u001b[0;34mf\"Improvement:   {(sgd_f1 - base_f1) / (1 - base_f1)}\"\u001b[0m\u001b[0;34m)\u001b[0m\u001b[0;34m\u001b[0m\u001b[0;34m\u001b[0m\u001b[0m\n",
      "\u001b[0;31mNameError\u001b[0m: name 'base_f1' is not defined"
     ]
    }
   ],
   "source": [
    "print(f\"Base F1 score: {base_f1}\")\n",
    "print(f\"SGD F1 score:  {sgd_f1}\")\n",
    "print(f\"Difference:    {sgd_f1 - base_f1}\") \n",
    "print(f\"Improvement:   {(sgd_f1 - base_f1) / (1 - base_f1)}\")"
   ]
  },
  {
   "cell_type": "code",
   "execution_count": 29,
   "id": "scheduled-accuracy",
   "metadata": {},
   "outputs": [
    {
     "data": {
      "text/plain": [
       "0.2213704451268561"
      ]
     },
     "execution_count": 29,
     "metadata": {},
     "output_type": "execute_result"
    }
   ],
   "source": [
    "(sgd_f1 - base_f1) / (1 - base_f1)\n",
    "# Percentage error reduction; how much we improved over the base."
   ]
  },
  {
   "cell_type": "code",
   "execution_count": 20,
   "id": "fitting-parking",
   "metadata": {},
   "outputs": [
    {
     "name": "stdout",
     "output_type": "stream",
     "text": [
      "SGD and baseline agreed 9436 times\n",
      "SGD was right, and baseline was wrong 384 times\n",
      "Baseline was right, and SGD was wrong 180 times\n"
     ]
    }
   ],
   "source": [
    "# Predicted is the SGD prediction\n",
    "# test[\"sentiment\"] is the right answer\n",
    "# if they are equal, the value is true, if they are not, then it is false\n",
    "diff = (predicted == test[\"sentiment\"]).astype(int) - (base_predicted == test[\"sentiment\"]).astype(int)\n",
    "# if both base and SGD have the same answer, thehn we get 0\n",
    "# If baseline was wrong (0) and SGD was right(1) we get 1\n",
    "# If baseline was right (1) and SGD was wrong (0) we get -1\n",
    "\n",
    "print(f\"SGD and baseline agreed {sum(diff == 0)} times\")\n",
    "print(f\"SGD was right, and baseline was wrong {sum(diff == 1)} times\")\n",
    "print(f\"Baseline was right, and SGD was wrong {sum(diff == -1)} times\")"
   ]
  },
  {
   "cell_type": "code",
   "execution_count": 21,
   "id": "above-pizza",
   "metadata": {},
   "outputs": [
    {
     "data": {
      "text/plain": [
       "2.7280047216608303e-18"
      ]
     },
     "execution_count": 21,
     "metadata": {},
     "output_type": "execute_result"
    }
   ],
   "source": [
    "from scipy.stats import binom_test, wilcoxon\n",
    "\n",
    "binom_test([sum(diff == 1), sum(diff == -1)], alternative=\"greater\")\n"
   ]
  },
  {
   "cell_type": "code",
   "execution_count": null,
   "id": "synthetic-rochester",
   "metadata": {},
   "outputs": [],
   "source": []
  }
 ],
 "metadata": {
  "kernelspec": {
   "display_name": "Python 3",
   "language": "python",
   "name": "python3"
  },
  "language_info": {
   "codemirror_mode": {
    "name": "ipython",
    "version": 3
   },
   "file_extension": ".py",
   "mimetype": "text/x-python",
   "name": "python",
   "nbconvert_exporter": "python",
   "pygments_lexer": "ipython3",
   "version": "3.8.6"
  }
 },
 "nbformat": 4,
 "nbformat_minor": 5
}
